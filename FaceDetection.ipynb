{
 "cells": [
  {
   "cell_type": "code",
   "execution_count": 12,
   "metadata": {},
   "outputs": [
    {
     "name": "stdout",
     "output_type": "stream",
     "text": [
      "Total no of faces found: 0\n",
      "Total no of faces found: 1\n",
      "Total no of faces found: 10\n",
      "Total no of faces found: 7\n",
      "Total no of faces found: 1\n",
      "Total no of faces found: 2\n"
     ]
    }
   ],
   "source": [
    "import cv2\n",
    "import numpy as np\n",
    "from matplotlib import pyplot as plt\n",
    "import glob\n",
    "\n",
    "imgfile=[]\n",
    "for i in glob.glob(\"*.jpg\"):\n",
    "    imgfile.append(i)\n",
    "    \n",
    "for j in imgfile:\n",
    "    image=cv2.imread(j,cv2.IMREAD_COLOR)\n",
    "    image1= image.copy()\n",
    "    image2=cv2.cvtColor(image1,cv2.COLOR_BGR2GRAY)\n",
    "    facecascade=cv2.CascadeClassifier(\"C:\\\\Users\\\\Jeyashree\\\\Desktop\\\\Image_Processing_Challenge (2)\\\\haarcascade_frontalface_default.xml\")\n",
    "    eyecascade=cv2.CascadeClassifier(\"C:\\\\Users\\\\Jeyashree\\\\Desktop\\\\Image_Processing_Challenge (2)\\\\haarcascade_eye.xml\")\n",
    "    faces=facecascade.detectMultiScale(image2,scaleFactor=1.2,minNeighbors=5)\n",
    "    \n",
    "    print(\"Total no of faces found:\",len(faces))\n",
    "\n",
    "\n",
    "\n",
    "\n"
   ]
  }
 ],
 "metadata": {
  "kernelspec": {
   "display_name": "Python 3",
   "language": "python",
   "name": "python3"
  },
  "language_info": {
   "codemirror_mode": {
    "name": "ipython",
    "version": 3
   },
   "file_extension": ".py",
   "mimetype": "text/x-python",
   "name": "python",
   "nbconvert_exporter": "python",
   "pygments_lexer": "ipython3",
   "version": "3.7.3"
  }
 },
 "nbformat": 4,
 "nbformat_minor": 2
}
